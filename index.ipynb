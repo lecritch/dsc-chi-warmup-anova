{
 "cells": [
  {
   "cell_type": "markdown",
   "metadata": {},
   "source": [
    "## Imports"
   ]
  },
  {
   "cell_type": "code",
   "execution_count": 1,
   "metadata": {},
   "outputs": [],
   "source": [
    "#data manip\n",
    "import pandas as pd\n",
    "\n",
    "#stats\n",
    "from scipy import stats\n",
    "from statsmodels.stats.multicomp import pairwise_tukeyhsd\n",
    "\n",
    "#viz\n",
    "from matplotlib.pyplot import plot as plt\n",
    "\n",
    "#testing\n",
    "from test_scripts.test_class import Test\n",
    "testing = Test()"
   ]
  },
  {
   "cell_type": "markdown",
   "metadata": {},
   "source": [
    "## Conceptual Writing\n",
    "\n",
    "\n",
    "\n",
    "#### Write one scenario each in which you would use a z-test, a one-sample two-tailed t-test, a two-sample one-tailed t-test, and an ANOVA"
   ]
  },
  {
   "cell_type": "code",
   "execution_count": 123,
   "metadata": {},
   "outputs": [],
   "source": [
    "'''\n",
    "Your writing here\n",
    "\n",
    "Slack your answers to Ben and he'll check 'em!\n",
    "'''"
   ]
  },
  {
   "cell_type": "markdown",
   "metadata": {},
   "source": [
    "Z-test:  Out of the population of my pencil case of 35 pencils, the population mean length of my pencils is 17cm with standard deviation 2.2.  I could do a z-test to test the mean length of pencils in my pencil case.  \n",
    "\n",
    "1-sample, 2-tailed, t-test:  The population is ALL pencils in USA.  I have a sample of 35 pencils in my pencil case with mean 17cm and std 2.2.  I want to determine whether whether mu = 17 (null) or mu != 17 (alt).  \n",
    "\n",
    "Shall I continue with the pencil examples?  I'm getting a little bored of it...\n",
    "\n",
    "2-sample, 1-tailed, t-test:  There are two flatiron cohorts:  Seattle and Chicago.  We want to test whether the mean employment rate between the two cohorts is greater than 98.9%.... (maybe I should stick with pencil examples...)\n",
    "\n",
    "ANOVA:  The Seattle cohort is trying 3 types of learning:  group projects, 1-1 tutoring, lecturing.  We want to see if one type of learning is better than another.  "
   ]
  },
  {
   "cell_type": "markdown",
   "metadata": {},
   "source": [
    "## Calculations\n",
    "\n",
    "For each scenario, assume that the data come from normally-distributed populations with ~equal variances\n",
    "\n",
    "### Question 1) \n",
    "\n",
    "Suppose that a random sample of n = 5 was selected from the vineyard properties for sale in Sonoma County, California,  in  each  of  three  years.    The  following  data  are  consistent  with  summary  information  on  price  per acre for disease-resistant grape vineyards in Sonoma County.  Carry out an ANOVA to determine whether there is evidence to support the claim that the mean price per acre for vineyard land in Sonoma County was not the same for each of the three years considered.  Test at the 0.05 level and at the 0.01 level.\n",
    "\n",
    "For testing, assign your F-statistic to `f_1`, and `p_1` for the p-value"
   ]
  },
  {
   "cell_type": "code",
   "execution_count": 142,
   "metadata": {},
   "outputs": [],
   "source": [
    "data_96 = [30000, 34000, 36000, 38000, 40000]\n",
    "data_97 = [30000, 35000, 37000, 38000, 40000]\n",
    "data_98 = [40000, 41000, 43000, 44000, 50000]\n",
    "\n",
    "#your code here"
   ]
  },
  {
   "cell_type": "code",
   "execution_count": 146,
   "metadata": {},
   "outputs": [],
   "source": [
    "#run this cell to test the f-stat\n",
    "\n",
    "testing.run_test(f_1, 'f_1')"
   ]
  },
  {
   "cell_type": "code",
   "execution_count": 147,
   "metadata": {},
   "outputs": [],
   "source": [
    "#run this cell to test the p-value\n",
    "\n",
    "testing.run_test(p_1, 'p_1')"
   ]
  },
  {
   "cell_type": "markdown",
   "metadata": {},
   "source": [
    "### Question 2)\n",
    "\n",
    "The  following  data  on  calcium  content  of  wheat  are  consistent  with  summary  quantities  that  appeared  in  the article  “Mineral  Contents  of  Cereal  Grains  as  Affected  by  Storage  and  Insect  Infestation”  (Journal  of  Stored Products  Research  [1992]).    Four  different  storage  times  were  considered.    Is  there  sufficient  evidence  to conclude  that  the  mean  calcium  content  is  not  the  same  for  the  four  different  storage  times?    Test  the appropriate hypotheses at the 0.05 level.\n",
    "\n",
    "- 0 months 58.75 57.94 58.91 56.85 55.21 57.30 \n",
    "- 1 month  58.87 56.43 56.51 57.67 59.75 58.48\n",
    "- 2 months 59.13 60.38 58.01 59.95 59.51 60.34\n",
    "- 3 months 62.32 58.76 60.03 59.36 59.61 61.95\n",
    "\n",
    "*Hint: write a quick function to get each row of data into a list of floats after copying/pasting it down into a cell*\n",
    "\n",
    "Store F_stat value as `f_2` and p-value as `p_2` to test!"
   ]
  },
  {
   "cell_type": "code",
   "execution_count": null,
   "metadata": {},
   "outputs": [],
   "source": [
    "#your code here"
   ]
  },
  {
   "cell_type": "code",
   "execution_count": 151,
   "metadata": {},
   "outputs": [],
   "source": [
    "#run this cell to test the f-stat\n",
    "\n",
    "testing.run_test(f_2, 'f_2')"
   ]
  },
  {
   "cell_type": "code",
   "execution_count": 152,
   "metadata": {},
   "outputs": [],
   "source": [
    "#run this cell to test the p-value\n",
    "\n",
    "testing.run_test(p_2, 'p_2')"
   ]
  },
  {
   "cell_type": "markdown",
   "metadata": {},
   "source": [
    "### Question 3)\n",
    "\n",
    "Use the data in the data folder to determine whether there is a difference in plant growth between a control group and two different experimental fertilizer treatments at the alpha=.05 level.\n",
    "\n",
    "If there is a difference, determine which group had higher growth compared to which other groups \n",
    "(again at .05 alpha level).\n",
    "\n",
    "To test your work:\n",
    "- assign the F-statistic and p-value as f_3 and p_3, respectively\n",
    "- assign the pvalues for any pairwise comparisons as pcp_3 \n",
    "\n",
    "*Hint: for assigning the pairwise comparison pvalues, they are extractable from the pairwise comparison object\n",
    "you create*\n",
    "\n",
    "*read the documentation!*"
   ]
  },
  {
   "cell_type": "code",
   "execution_count": null,
   "metadata": {},
   "outputs": [],
   "source": [
    "#your code here"
   ]
  },
  {
   "cell_type": "code",
   "execution_count": 157,
   "metadata": {},
   "outputs": [],
   "source": [
    "#run this cell to test the f-stat\n",
    "\n",
    "testing.run_test(f_3, 'f_3')"
   ]
  },
  {
   "cell_type": "code",
   "execution_count": 158,
   "metadata": {},
   "outputs": [],
   "source": [
    "#run this cell to test the p-value\n",
    "\n",
    "testing.run_test(p_3, 'p_3')"
   ]
  },
  {
   "cell_type": "code",
   "execution_count": 159,
   "metadata": {},
   "outputs": [],
   "source": [
    "#run this cell to test the pairwise comparison pvalues\n",
    "\n",
    "testing.run_test(pcp_3, 'pcp_3')"
   ]
  },
  {
   "cell_type": "markdown",
   "metadata": {},
   "source": [
    "## BONUS CONCEPTUAL QUESTION\n",
    "\n",
    "Why are the p-values in the Tukey HSD output \"adjusted\"?  What does the Tukey code adjust for?\n",
    "\n",
    "*Hint: it's the same reason we do ANOVA in the first place and not just a bunch of t-tests*"
   ]
  },
  {
   "cell_type": "code",
   "execution_count": null,
   "metadata": {},
   "outputs": [],
   "source": [
    "'''\n",
    "Your answer here\n",
    "\n",
    "Check solution branch for answer\n",
    "'''"
   ]
  }
 ],
 "metadata": {
  "kernelspec": {
   "display_name": "Python 3",
   "language": "python",
   "name": "python3"
  },
  "language_info": {
   "codemirror_mode": {
    "name": "ipython",
    "version": 3
   },
   "file_extension": ".py",
   "mimetype": "text/x-python",
   "name": "python",
   "nbconvert_exporter": "python",
   "pygments_lexer": "ipython3",
   "version": "3.6.9"
  }
 },
 "nbformat": 4,
 "nbformat_minor": 4
}
